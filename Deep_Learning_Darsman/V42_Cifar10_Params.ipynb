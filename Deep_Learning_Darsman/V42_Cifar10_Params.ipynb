{
  "nbformat": 4,
  "nbformat_minor": 0,
  "metadata": {
    "colab": {
      "provenance": [],
      "gpuType": "T4",
      "authorship_tag": "ABX9TyP05CHweJPtQDUon5rdSlPI",
      "include_colab_link": true
    },
    "kernelspec": {
      "name": "python3",
      "display_name": "Python 3"
    },
    "language_info": {
      "name": "python"
    },
    "accelerator": "GPU"
  },
  "cells": [
    {
      "cell_type": "markdown",
      "metadata": {
        "id": "view-in-github",
        "colab_type": "text"
      },
      "source": [
        "<a href=\"https://colab.research.google.com/github/mohammadreza-mohammadi94/AgenticAI/blob/main/Deep_Learning_Darsman/V42_Cifar10_Params.ipynb\" target=\"_parent\"><img src=\"https://colab.research.google.com/assets/colab-badge.svg\" alt=\"Open In Colab\"/></a>"
      ]
    },
    {
      "cell_type": "markdown",
      "source": [
        "> Libs"
      ],
      "metadata": {
        "id": "y4mIi3oRjHuh"
      }
    },
    {
      "cell_type": "code",
      "execution_count": 1,
      "metadata": {
        "id": "VpKI2kDGi-tW"
      },
      "outputs": [],
      "source": [
        "import numpy as np\n",
        "import tensorflow as tf\n",
        "from tensorflow.keras.models import Sequential\n",
        "from tensorflow.keras.layers import Conv2D, MaxPooling2D,AveragePooling2D, Flatten, Dense, Dropout, BatchNormalization\n",
        "from tensorflow.keras.datasets import cifar10\n",
        "from tensorflow.keras.utils import to_categorical\n",
        "from tensorflow.keras.preprocessing import image\n",
        "import matplotlib.pyplot as plt"
      ]
    },
    {
      "cell_type": "markdown",
      "source": [
        "> Load Data"
      ],
      "metadata": {
        "id": "cpS3nQBwjKXx"
      }
    },
    {
      "cell_type": "code",
      "source": [
        "(x_train, y_train), (x_test, y_test) = cifar10.load_data()\n",
        "\n",
        "print(f\"Training data shape: {x_train.shape}, Labels shape: {y_train.shape}\")\n",
        "print(f\"Test data shape: {x_test.shape}, Labels shape: {y_test.shape}\")"
      ],
      "metadata": {
        "colab": {
          "base_uri": "https://localhost:8080/"
        },
        "id": "0UGxd1IGjIlX",
        "outputId": "3a2e26ba-1559-45fa-e267-20ab493ee0c0"
      },
      "execution_count": 2,
      "outputs": [
        {
          "output_type": "stream",
          "name": "stdout",
          "text": [
            "Downloading data from https://www.cs.toronto.edu/~kriz/cifar-10-python.tar.gz\n",
            "\u001b[1m170498071/170498071\u001b[0m \u001b[32m━━━━━━━━━━━━━━━━━━━━\u001b[0m\u001b[37m\u001b[0m \u001b[1m4s\u001b[0m 0us/step\n",
            "Training data shape: (50000, 32, 32, 3), Labels shape: (50000, 1)\n",
            "Test data shape: (10000, 32, 32, 3), Labels shape: (10000, 1)\n"
          ]
        }
      ]
    },
    {
      "cell_type": "code",
      "source": [
        "print(f\"Training data: \\n{x_train[0][0]}\")\n",
        "print(f\"\\n\\nLabels: \\n{y_train[0]}\")"
      ],
      "metadata": {
        "colab": {
          "base_uri": "https://localhost:8080/"
        },
        "id": "AQQedJrAjO7T",
        "outputId": "2682fb4d-4a4b-48e0-bfc4-a5537e6f1021"
      },
      "execution_count": 3,
      "outputs": [
        {
          "output_type": "stream",
          "name": "stdout",
          "text": [
            "Training data: \n",
            "[[ 59  62  63]\n",
            " [ 43  46  45]\n",
            " [ 50  48  43]\n",
            " [ 68  54  42]\n",
            " [ 98  73  52]\n",
            " [119  91  63]\n",
            " [139 107  75]\n",
            " [145 110  80]\n",
            " [149 117  89]\n",
            " [149 120  93]\n",
            " [131 103  77]\n",
            " [125  99  76]\n",
            " [142 115  91]\n",
            " [144 112  86]\n",
            " [137 105  79]\n",
            " [129  97  71]\n",
            " [137 106  79]\n",
            " [134 106  76]\n",
            " [124  97  64]\n",
            " [139 113  78]\n",
            " [139 112  75]\n",
            " [133 105  69]\n",
            " [136 105  74]\n",
            " [139 108  77]\n",
            " [152 120  89]\n",
            " [163 131 100]\n",
            " [168 136 108]\n",
            " [159 129 102]\n",
            " [158 130 104]\n",
            " [158 132 108]\n",
            " [152 125 102]\n",
            " [148 124 103]]\n",
            "\n",
            "\n",
            "Labels: \n",
            "[6]\n"
          ]
        }
      ]
    },
    {
      "cell_type": "markdown",
      "source": [
        "> Normalization"
      ],
      "metadata": {
        "id": "hH0Y0XmojWzm"
      }
    },
    {
      "cell_type": "code",
      "source": [
        "x_train, x_test = x_train / 255.0, x_test / 255.0"
      ],
      "metadata": {
        "id": "dT_ZjQmLjRgb"
      },
      "execution_count": 4,
      "outputs": []
    },
    {
      "cell_type": "code",
      "source": [
        "print(f\"Training data: \\n{x_train[0][0]}\")\n",
        "print(f\"\\n\\nLabels: \\n{y_train[0]}\")"
      ],
      "metadata": {
        "colab": {
          "base_uri": "https://localhost:8080/"
        },
        "id": "eUy5ld1rjZyH",
        "outputId": "f9ee18bf-2e21-4524-924e-95af08f9caeb"
      },
      "execution_count": 5,
      "outputs": [
        {
          "output_type": "stream",
          "name": "stdout",
          "text": [
            "Training data: \n",
            "[[0.23137255 0.24313725 0.24705882]\n",
            " [0.16862745 0.18039216 0.17647059]\n",
            " [0.19607843 0.18823529 0.16862745]\n",
            " [0.26666667 0.21176471 0.16470588]\n",
            " [0.38431373 0.28627451 0.20392157]\n",
            " [0.46666667 0.35686275 0.24705882]\n",
            " [0.54509804 0.41960784 0.29411765]\n",
            " [0.56862745 0.43137255 0.31372549]\n",
            " [0.58431373 0.45882353 0.34901961]\n",
            " [0.58431373 0.47058824 0.36470588]\n",
            " [0.51372549 0.40392157 0.30196078]\n",
            " [0.49019608 0.38823529 0.29803922]\n",
            " [0.55686275 0.45098039 0.35686275]\n",
            " [0.56470588 0.43921569 0.3372549 ]\n",
            " [0.5372549  0.41176471 0.30980392]\n",
            " [0.50588235 0.38039216 0.27843137]\n",
            " [0.5372549  0.41568627 0.30980392]\n",
            " [0.5254902  0.41568627 0.29803922]\n",
            " [0.48627451 0.38039216 0.25098039]\n",
            " [0.54509804 0.44313725 0.30588235]\n",
            " [0.54509804 0.43921569 0.29411765]\n",
            " [0.52156863 0.41176471 0.27058824]\n",
            " [0.53333333 0.41176471 0.29019608]\n",
            " [0.54509804 0.42352941 0.30196078]\n",
            " [0.59607843 0.47058824 0.34901961]\n",
            " [0.63921569 0.51372549 0.39215686]\n",
            " [0.65882353 0.53333333 0.42352941]\n",
            " [0.62352941 0.50588235 0.4       ]\n",
            " [0.61960784 0.50980392 0.40784314]\n",
            " [0.61960784 0.51764706 0.42352941]\n",
            " [0.59607843 0.49019608 0.4       ]\n",
            " [0.58039216 0.48627451 0.40392157]]\n",
            "\n",
            "\n",
            "Labels: \n",
            "[6]\n"
          ]
        }
      ]
    },
    {
      "cell_type": "code",
      "source": [],
      "metadata": {
        "id": "EqITok0LjZve"
      },
      "execution_count": 5,
      "outputs": []
    },
    {
      "cell_type": "markdown",
      "source": [
        "> OneHot Encoding"
      ],
      "metadata": {
        "id": "yvHRH4prjkLG"
      }
    },
    {
      "cell_type": "code",
      "source": [
        "y_train = to_categorical(y_train, 10)\n",
        "y_test = to_categorical(y_test, 10)\n",
        "\n",
        "print(f\"\\n\\nTrain Labels Shape: \\n{y_train.shape}\")\n",
        "print(f\"\\n\\nTrain Labels: \\n{y_train[0]}\")\n",
        "print(f\"\\n\\nTest Labels: \\n{y_test[0]}\")"
      ],
      "metadata": {
        "colab": {
          "base_uri": "https://localhost:8080/"
        },
        "id": "xRsJgrAqje5T",
        "outputId": "cc0d5d42-a107-4d71-a170-d8382ae1ad62"
      },
      "execution_count": 6,
      "outputs": [
        {
          "output_type": "stream",
          "name": "stdout",
          "text": [
            "\n",
            "\n",
            "Train Labels Shape: \n",
            "(50000, 10)\n",
            "\n",
            "\n",
            "Train Labels: \n",
            "[0. 0. 0. 0. 0. 0. 1. 0. 0. 0.]\n",
            "\n",
            "\n",
            "Test Labels: \n",
            "[0. 0. 0. 1. 0. 0. 0. 0. 0. 0.]\n"
          ]
        }
      ]
    },
    {
      "cell_type": "code",
      "source": [],
      "metadata": {
        "id": "wXioXPgPje2T"
      },
      "execution_count": 6,
      "outputs": []
    },
    {
      "cell_type": "markdown",
      "source": [
        "> Model Definition"
      ],
      "metadata": {
        "id": "GKqvufl8jzRM"
      }
    },
    {
      "cell_type": "code",
      "source": [
        "model = Sequential([\n",
        "    Conv2D(input_shape=(32, 32, 3), filters=96, kernel_size=(3, 3), strides=(1, 1), padding='same', activation='relu'),\n",
        "    BatchNormalization(),\n",
        "    MaxPooling2D(pool_size=(2, 2), strides=(2, 2)),\n",
        "\n",
        "    Conv2D(filters=256, kernel_size=(3, 3), strides=(1, 1), padding='same', activation='relu'),\n",
        "    BatchNormalization(),\n",
        "    MaxPooling2D(pool_size=(2, 2), strides=(2, 2)),\n",
        "\n",
        "    Conv2D(filters=384, kernel_size=(3, 3), strides=(1, 1), padding='same', activation='relu'),\n",
        "    BatchNormalization(),\n",
        "\n",
        "    Conv2D(filters=384, kernel_size=(3, 3), strides=(1, 1), padding='same', activation='relu'),\n",
        "    BatchNormalization(),\n",
        "\n",
        "    Conv2D(filters=256, kernel_size=(3, 3), strides=(1, 1), padding='same', activation='relu'),\n",
        "    BatchNormalization(),\n",
        "    MaxPooling2D(pool_size=(2, 2), strides=(2, 2)),\n",
        "\n",
        "    Flatten(),\n",
        "\n",
        "    Dense(4096, activation='relu'),\n",
        "    Dropout(0.5),\n",
        "\n",
        "    Dense(4096, activation='relu'),\n",
        "    Dropout(0.5),\n",
        "\n",
        "    Dense(10, activation='softmax')\n",
        "])"
      ],
      "metadata": {
        "colab": {
          "base_uri": "https://localhost:8080/"
        },
        "id": "vRZjULz9jezP",
        "outputId": "6409b9e8-bfa5-4375-deb8-2798c2c04359"
      },
      "execution_count": 7,
      "outputs": [
        {
          "output_type": "stream",
          "name": "stderr",
          "text": [
            "/usr/local/lib/python3.11/dist-packages/keras/src/layers/convolutional/base_conv.py:107: UserWarning: Do not pass an `input_shape`/`input_dim` argument to a layer. When using Sequential models, prefer using an `Input(shape)` object as the first layer in the model instead.\n",
            "  super().__init__(activity_regularizer=activity_regularizer, **kwargs)\n"
          ]
        }
      ]
    },
    {
      "cell_type": "code",
      "source": [],
      "metadata": {
        "id": "rnrPs2SFj1Bq"
      },
      "execution_count": 7,
      "outputs": []
    },
    {
      "cell_type": "markdown",
      "source": [
        "> Compile & Train"
      ],
      "metadata": {
        "id": "zsFO3gcXj26Q"
      }
    },
    {
      "cell_type": "code",
      "source": [
        "model.compile(optimizer='adam',\n",
        "              loss='categorical_crossentropy',\n",
        "              metrics=['accuracy'])"
      ],
      "metadata": {
        "id": "VOs7M3N4j0_K"
      },
      "execution_count": 8,
      "outputs": []
    },
    {
      "cell_type": "code",
      "source": [
        "history = model.fit(x_train, y_train,\n",
        "                    epochs=10,\n",
        "                    batch_size=64,\n",
        "                    validation_data=(x_test, y_test))"
      ],
      "metadata": {
        "colab": {
          "base_uri": "https://localhost:8080/"
        },
        "id": "S4kRU7gWj08y",
        "outputId": "0bbec106-9045-45d6-81df-2aeb5a7f42f7"
      },
      "execution_count": 9,
      "outputs": [
        {
          "output_type": "stream",
          "name": "stdout",
          "text": [
            "Epoch 1/10\n",
            "\u001b[1m782/782\u001b[0m \u001b[32m━━━━━━━━━━━━━━━━━━━━\u001b[0m\u001b[37m\u001b[0m \u001b[1m48s\u001b[0m 46ms/step - accuracy: 0.3309 - loss: 2.8739 - val_accuracy: 0.4205 - val_loss: 1.5851\n",
            "Epoch 2/10\n",
            "\u001b[1m782/782\u001b[0m \u001b[32m━━━━━━━━━━━━━━━━━━━━\u001b[0m\u001b[37m\u001b[0m \u001b[1m67s\u001b[0m 36ms/step - accuracy: 0.5535 - loss: 1.2974 - val_accuracy: 0.5388 - val_loss: 1.3333\n",
            "Epoch 3/10\n",
            "\u001b[1m782/782\u001b[0m \u001b[32m━━━━━━━━━━━━━━━━━━━━\u001b[0m\u001b[37m\u001b[0m \u001b[1m41s\u001b[0m 36ms/step - accuracy: 0.6521 - loss: 1.0411 - val_accuracy: 0.5919 - val_loss: 1.1740\n",
            "Epoch 4/10\n",
            "\u001b[1m782/782\u001b[0m \u001b[32m━━━━━━━━━━━━━━━━━━━━\u001b[0m\u001b[37m\u001b[0m \u001b[1m28s\u001b[0m 36ms/step - accuracy: 0.7094 - loss: 0.8733 - val_accuracy: 0.7037 - val_loss: 0.9236\n",
            "Epoch 5/10\n",
            "\u001b[1m782/782\u001b[0m \u001b[32m━━━━━━━━━━━━━━━━━━━━\u001b[0m\u001b[37m\u001b[0m \u001b[1m40s\u001b[0m 35ms/step - accuracy: 0.7636 - loss: 0.7215 - val_accuracy: 0.7531 - val_loss: 0.7883\n",
            "Epoch 6/10\n",
            "\u001b[1m782/782\u001b[0m \u001b[32m━━━━━━━━━━━━━━━━━━━━\u001b[0m\u001b[37m\u001b[0m \u001b[1m29s\u001b[0m 36ms/step - accuracy: 0.8080 - loss: 0.5931 - val_accuracy: 0.7850 - val_loss: 0.6706\n",
            "Epoch 7/10\n",
            "\u001b[1m782/782\u001b[0m \u001b[32m━━━━━━━━━━━━━━━━━━━━\u001b[0m\u001b[37m\u001b[0m \u001b[1m41s\u001b[0m 36ms/step - accuracy: 0.8377 - loss: 0.4941 - val_accuracy: 0.7303 - val_loss: 0.8035\n",
            "Epoch 8/10\n",
            "\u001b[1m782/782\u001b[0m \u001b[32m━━━━━━━━━━━━━━━━━━━━\u001b[0m\u001b[37m\u001b[0m \u001b[1m27s\u001b[0m 35ms/step - accuracy: 0.8691 - loss: 0.4019 - val_accuracy: 0.5430 - val_loss: 1.4104\n",
            "Epoch 9/10\n",
            "\u001b[1m782/782\u001b[0m \u001b[32m━━━━━━━━━━━━━━━━━━━━\u001b[0m\u001b[37m\u001b[0m \u001b[1m42s\u001b[0m 36ms/step - accuracy: 0.9027 - loss: 0.3054 - val_accuracy: 0.7459 - val_loss: 0.8279\n",
            "Epoch 10/10\n",
            "\u001b[1m782/782\u001b[0m \u001b[32m━━━━━━━━━━━━━━━━━━━━\u001b[0m\u001b[37m\u001b[0m \u001b[1m27s\u001b[0m 35ms/step - accuracy: 0.9185 - loss: 0.2538 - val_accuracy: 0.7639 - val_loss: 0.8062\n"
          ]
        }
      ]
    },
    {
      "cell_type": "code",
      "source": [],
      "metadata": {
        "id": "LOIVUxoSj06P"
      },
      "execution_count": 9,
      "outputs": []
    },
    {
      "cell_type": "markdown",
      "source": [
        "> Performance"
      ],
      "metadata": {
        "id": "XgzB7i-5kBo-"
      }
    },
    {
      "cell_type": "code",
      "source": [
        "print(history.history['accuracy'])\n",
        "print(history.history['loss'])\n",
        "print(history.history['val_accuracy'])\n",
        "print(history.history['val_loss'])"
      ],
      "metadata": {
        "colab": {
          "base_uri": "https://localhost:8080/"
        },
        "id": "f5E76eFUj0bh",
        "outputId": "cc0cbb46-fe83-4fcd-e7e3-887290f62d1f"
      },
      "execution_count": 10,
      "outputs": [
        {
          "output_type": "stream",
          "name": "stdout",
          "text": [
            "[0.41707998514175415, 0.5799199938774109, 0.6609799861907959, 0.719760000705719, 0.7666000127792358, 0.8071399927139282, 0.8358799815177917, 0.8677200078964233, 0.893779993057251, 0.9133800268173218]\n",
            "[1.8490628004074097, 1.2324111461639404, 1.0149387121200562, 0.8526861667633057, 0.7104094624519348, 0.5968172550201416, 0.5012774467468262, 0.4058269262313843, 0.33284059166908264, 0.2717045843601227]\n",
            "[0.4205000102519989, 0.5388000011444092, 0.5918999910354614, 0.7037000060081482, 0.7530999779701233, 0.7850000262260437, 0.7303000092506409, 0.5429999828338623, 0.7458999752998352, 0.7638999819755554]\n",
            "[1.5850605964660645, 1.3333297967910767, 1.173970103263855, 0.9235573410987854, 0.7882655262947083, 0.6705846786499023, 0.8034998774528503, 1.4103516340255737, 0.8279188275337219, 0.8061657547950745]\n"
          ]
        }
      ]
    },
    {
      "cell_type": "code",
      "source": [
        "test_loss, test_acc = model.evaluate(x_test, y_test, verbose=2)\n",
        "print(f\"Test Loss: {test_loss}\")\n",
        "print(f\"Test Accuracy: {test_acc}\")"
      ],
      "metadata": {
        "colab": {
          "base_uri": "https://localhost:8080/"
        },
        "id": "JC-pyla1kEMw",
        "outputId": "ccd3a9d1-8710-4d1e-be16-a641d160119b"
      },
      "execution_count": 11,
      "outputs": [
        {
          "output_type": "stream",
          "name": "stdout",
          "text": [
            "313/313 - 3s - 10ms/step - accuracy: 0.7639 - loss: 0.8062\n",
            "Test Loss: 0.806165874004364\n",
            "Test Accuracy: 0.7638999819755554\n"
          ]
        }
      ]
    },
    {
      "cell_type": "code",
      "source": [],
      "metadata": {
        "id": "NWE9-SMwkEKg"
      },
      "execution_count": 11,
      "outputs": []
    },
    {
      "cell_type": "markdown",
      "source": [
        "> Plot"
      ],
      "metadata": {
        "id": "c5Mo1ijPkI1J"
      }
    },
    {
      "cell_type": "code",
      "source": [
        "\n",
        "plt.plot(history.history['accuracy'], label='Training Accuracy')\n",
        "plt.plot(history.history['val_accuracy'], label='Validation Accuracy')\n",
        "plt.xlabel('Epochs')\n",
        "plt.ylabel('Accuracy')\n",
        "plt.legend()\n",
        "plt.show()"
      ],
      "metadata": {
        "colab": {
          "base_uri": "https://localhost:8080/",
          "height": 449
        },
        "id": "yYxWYvbSkEIA",
        "outputId": "14eb8781-31b4-4248-8222-5b4f6a8fad33"
      },
      "execution_count": 12,
      "outputs": [
        {
          "output_type": "display_data",
          "data": {
            "text/plain": [
              "<Figure size 640x480 with 1 Axes>"
            ],
            "image/png": "[encoded data removed]"
          },
          "metadata": {}
        }
      ]
    },
    {
      "cell_type": "code",
      "source": [],
      "metadata": {
        "id": "2LZfvx0akRtX"
      },
      "execution_count": null,
      "outputs": []
    },
    {
      "cell_type": "markdown",
      "source": [
        "> Testing Model"
      ],
      "metadata": {
        "id": "4v0Ym4tZk8dt"
      }
    },
    {
      "cell_type": "code",
      "source": [
        "img_path = '/content/drive/MyDrive/images/example3.jpg'\n",
        "img = image.load_img(img_path, target_size=(32, 32))\n",
        "\n",
        "\n",
        "img_array = image.img_to_array(img)\n",
        "print(img_array.shape)\n",
        "\n",
        "img_array = img_array / 255.0\n",
        "\n",
        "img_array = np.expand_dims(img_array, axis=0)\n",
        "print(img_array.shape)\n",
        "\n",
        "\n",
        "predictions = model.predict(img_array)\n",
        "predicted_class_index = np.argmax(predictions)\n",
        "print(f\"Predicted class index: {predicted_class_index}\")"
      ],
      "metadata": {
        "id": "tFd9BkcTkRrA"
      },
      "execution_count": null,
      "outputs": []
    },
    {
      "cell_type": "code",
      "source": [
        "class_names = ['airplane', 'automobile', 'bird', 'cat', 'deer',\n",
        "               'dog', 'frog', 'horse', 'ship', 'truck']\n",
        "\n",
        "print(f\"Predicted label: {class_names[predicted_class_index]}\", )"
      ],
      "metadata": {
        "id": "yeKZRzI4kRot"
      },
      "execution_count": null,
      "outputs": []
    }
  ]
}